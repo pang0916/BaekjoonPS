{
 "cells": [
  {
   "attachments": {},
   "cell_type": "markdown",
   "metadata": {},
   "source": [
    "17387 선분교차2\n",
    "---\n",
    "골드2, 수학(기백)"
   ]
  },
  {
   "attachments": {},
   "cell_type": "markdown",
   "metadata": {},
   "source": [
    "한 직선에 대하여 서로 반대 방향에 있으면 ax+by+c < 0 or > 0 이 바뀌는 점을 이용해서 풀이.\n",
    "이때 모든 점이 한 직선에 있을 때를 따로 구해줘야해서 밑에 조건이 복잡."
   ]
  },
  {
   "attachments": {},
   "cell_type": "markdown",
   "metadata": {},
   "source": [
    "1. 실패"
   ]
  },
  {
   "cell_type": "code",
   "execution_count": null,
   "metadata": {},
   "outputs": [],
   "source": [
    "from sys import stdin\n",
    "input = stdin.readline\n",
    "\n",
    "x1, y1, x2, y2 = map(int, input().split())\n",
    "dot1, dot2 = (x1, y1), (x2, y2)\n",
    "x3, y3, x4, y4 = map(int, input().split())\n",
    "dot3, dot4 = (x3, y3), (x4, y4)\n",
    "\n",
    "def location(x, y, L1, L2):\n",
    "    return ((L1[1]-L2[1])*(x[0]-L1[0])-(x[1]-L1[1])*(L1[0]-L2[0])) * ((L1[1]-L2[1])*(y[0]-L1[0])-(y[1]-L1[1])*(L1[0]-L2[0]))\n",
    "\n",
    "a = location(dot3, dot4, dot1, dot2)\n",
    "b = location(dot1, dot2, dot3, dot4)\n",
    "if a<=0 and b<=0:\n",
    "    if a==0 and b==0:\n",
    "        if (min(x1+y1, x2+y2) > max(x3+y3, x4+y4)) or (max(x1+y1, x2+y2) < min(x3+y3, x4+y4)):\n",
    "            print(0)\n",
    "        else:\n",
    "            print(1)\n",
    "    else:\n",
    "        print(1)\n",
    "else:\n",
    "    print(0)"
   ]
  },
  {
   "attachments": {},
   "cell_type": "markdown",
   "metadata": {},
   "source": [
    "2. 성공"
   ]
  },
  {
   "cell_type": "code",
   "execution_count": null,
   "metadata": {},
   "outputs": [],
   "source": [
    "from sys import stdin\n",
    "input = stdin.readline\n",
    "\n",
    "x1, y1, x2, y2 = map(int, input().split())\n",
    "dot1, dot2 = (x1, y1), (x2, y2)\n",
    "x3, y3, x4, y4 = map(int, input().split())\n",
    "dot3, dot4 = (x3, y3), (x4, y4)\n",
    "\n",
    "def CCW(x, y, z):\n",
    "    temp = (y[0]-x[0])*(z[1]-x[1])-(y[1]-x[1])*(z[0]-x[0])\n",
    "    if temp > 0: return 1\n",
    "    elif temp == 0: return 0\n",
    "    else: return -1\n",
    "\n",
    "a = CCW(dot1, dot2, dot3)\n",
    "b = CCW(dot1, dot2, dot4)\n",
    "\n",
    "if a*b > 0:\n",
    "    print(0)\n",
    "elif a*b < 0:\n",
    "    c = CCW(dot3, dot4, dot1)\n",
    "    d = CCW(dot3, dot4, dot2)\n",
    "    if c*d < 0:\n",
    "        print(1)\n",
    "    elif c*d > 0:\n",
    "        print(0)\n",
    "    else:\n",
    "        idx = 1 if dot3[0] == dot4[0] else 0\n",
    "        if c == 0:\n",
    "            print(1 if (min(dot3[idx], dot4[idx]) <= dot1[idx]) and (dot1[idx] <= max(dot3[idx],dot4[idx])) else 0)\n",
    "        elif d == 0:\n",
    "            print(1 if (min(dot3[idx], dot4[idx]) <= dot2[idx]) and (dot2[idx] <= max(dot3[idx],dot4[idx])) else 0)\n",
    "else:\n",
    "    idx = 1 if dot1[0] == dot2[0] else 0\n",
    "    if a==0 and b==0:\n",
    "        print(0 if (min(dot3[idx], dot4[idx]) > max(dot1[idx],dot2[idx])) or (min(dot1[idx], dot2[idx]) > max(dot3[idx], dot4[idx])) else 1)\n",
    "    elif a==0:\n",
    "        print(1 if (min(dot1[idx], dot2[idx]) <= dot3[idx]) and (dot3[idx] <= max(dot1[idx],dot2[idx])) else 0)\n",
    "    elif b==0:\n",
    "        print(1 if (min(dot1[idx], dot2[idx]) <= dot4[idx]) and (dot4[idx] <= max(dot1[idx],dot2[idx])) else 0)"
   ]
  },
  {
   "attachments": {},
   "cell_type": "markdown",
   "metadata": {},
   "source": [
    "3. 모범답안"
   ]
  },
  {
   "cell_type": "code",
   "execution_count": null,
   "metadata": {},
   "outputs": [],
   "source": [
    "x1, y1, x2, y2 = map(int, input().split())\n",
    "x3, y3, x4, y4 = map(int, input().split())\n",
    "\n",
    "cond01 = ((y2-y1)*(x3-x1)-(x2-x1)*(y3-y1))*((y2-y1)*(x4-x1)-(x2-x1)*(y4-y1)) <= 0\n",
    "cond02 = ((y4-y3)*(x1-x3)-(x4-x3)*(y1-y3))*((y4-y3)*(x2-x3)-(x4-x3)*(y2-y3)) <= 0\n",
    "\n",
    "if (((y1-y2)*(x2-x3) == (x1-x2)*(y2-y3))) and ((y2-y3)*(x3-x4) == (x2-x3)*(y3-y4)):\n",
    "    if ((max(x1, x2) < min(x3, x4)) or (min(x1, x2) > max(x3, x4))) or ((max(y1, y2) < min(y3, y4)) or (min(y1, y2) > max(y3, y4))):\n",
    "        print(0)\n",
    "    else:\n",
    "        print(1)\n",
    "elif cond01 and cond02:\n",
    "    print(1)\n",
    "else:\n",
    "    print(0)"
   ]
  }
 ],
 "metadata": {
  "kernelspec": {
   "display_name": "Python 3",
   "language": "python",
   "name": "python3"
  },
  "language_info": {
   "name": "python",
   "version": "3.11.0 (main, Oct 24 2022, 18:26:48) [MSC v.1933 64 bit (AMD64)]"
  },
  "orig_nbformat": 4,
  "vscode": {
   "interpreter": {
    "hash": "345bda58c76f8d879425f4e4efb3da9cbd4530b50a41e82e33d0a3697756a97a"
   }
  }
 },
 "nbformat": 4,
 "nbformat_minor": 2
}
