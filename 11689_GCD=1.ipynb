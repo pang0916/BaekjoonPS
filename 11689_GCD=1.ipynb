{
 "cells": [
  {
   "attachments": {},
   "cell_type": "markdown",
   "metadata": {},
   "source": [
    "11689 GCD(n,k)=1\n",
    "\n",
    "골드1, 오일러 피함수"
   ]
  },
  {
   "attachments": {},
   "cell_type": "markdown",
   "metadata": {},
   "source": [
    "오일러 피함수 : n시그마(1-1/p)"
   ]
  },
  {
   "cell_type": "code",
   "execution_count": null,
   "metadata": {},
   "outputs": [],
   "source": [
    "n = int(input())\n",
    "max = int(n**0.5)\n",
    "nums = [True] * (max+1)\n",
    "primes = [2, 3]\n",
    "for i in range(5, max+1, 6):\n",
    "    if nums[i]:\n",
    "        primes.append(i)\n",
    "        for j in range(i*i, max+1, i):\n",
    "            nums[j] = False\n",
    "    if i+2 <= max and nums[i+2]:\n",
    "        primes.append(i+2)\n",
    "        for j in range((i+2)*(i+2), max+1, i+2):\n",
    "            nums[j] = False\n",
    "\n",
    "temp = n\n",
    "for i in primes:\n",
    "    if n%i == 0:\n",
    "        n //= i\n",
    "        n *= i-1\n",
    "        while temp%i == 0:\n",
    "            temp //= i\n",
    "        if temp == 1:\n",
    "            break\n",
    "        \n",
    "print(n if temp==1 else n//temp*(temp-1))"
   ]
  }
 ],
 "metadata": {
  "language_info": {
   "name": "python"
  },
  "orig_nbformat": 4
 },
 "nbformat": 4,
 "nbformat_minor": 2
}
