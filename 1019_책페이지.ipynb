{
 "cells": [
  {
   "attachments": {},
   "cell_type": "markdown",
   "metadata": {},
   "source": [
    "1019 책페이지\n",
    "\n",
    "골드1, 수학"
   ]
  },
  {
   "attachments": {},
   "cell_type": "markdown",
   "metadata": {},
   "source": [
    "뻘짓함.\n",
    "굳이 복잡하게 안가두될 듯.\n",
    "\n",
    "5234 -> 0~4999 + 234 이렇게"
   ]
  },
  {
   "cell_type": "code",
   "execution_count": null,
   "metadata": {},
   "outputs": [],
   "source": [
    "N = input().rstrip()\n",
    "count = [0]*10\n",
    "\n",
    "# 5234 -> 1~999(up) and 1000~~5234(find)\n",
    "# 1~999 -> 1~99 + 100~999\n",
    "# 1~99 -> 1~9 + 10~99\n",
    "# 1~9\n",
    "# 10 -> 1~9 and 10\n",
    "def find(start, end, num, length):\n",
    "    if length == 1:\n",
    "        for i in range(start, end+1):\n",
    "            count[i] += 1\n",
    "        return\n",
    "    \n",
    "    for i in range(start, end):\n",
    "        count[i] += 10**(length-1)\n",
    "    for i in range(10):\n",
    "        count[i] += (end-start)*(10**(length-1))*(length-1)//10\n",
    "    count[end] += int(num)+1\n",
    "    find(0, int(num[0]), num[1:], length-1)\n",
    "    \n",
    "find(1, int(N[0]), N[1:], len(N))\n",
    "\n",
    "def up(n):\n",
    "    if n <= 9:\n",
    "        for i in range(1, n+1):\n",
    "            count[i] += 1\n",
    "        return\n",
    "    up(n//10)\n",
    "    find(1, 9, str(n//10), len(str(n)))\n",
    "    \n",
    "up((10**(len(N)-1))-1)\n",
    "print(*count)"
   ]
  }
 ],
 "metadata": {
  "kernelspec": {
   "display_name": "Python 3",
   "language": "python",
   "name": "python3"
  },
  "language_info": {
   "name": "python",
   "version": "3.11.0"
  },
  "orig_nbformat": 4,
  "vscode": {
   "interpreter": {
    "hash": "345bda58c76f8d879425f4e4efb3da9cbd4530b50a41e82e33d0a3697756a97a"
   }
  }
 },
 "nbformat": 4,
 "nbformat_minor": 2
}
