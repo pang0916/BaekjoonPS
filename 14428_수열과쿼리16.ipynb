{
 "cells": [
  {
   "attachments": {},
   "cell_type": "markdown",
   "metadata": {},
   "source": [
    "14428 수열과 쿼리 16\n",
    "---\n",
    "\n",
    "- 골드1, 세그먼트 트리"
   ]
  },
  {
   "attachments": {},
   "cell_type": "markdown",
   "metadata": {},
   "source": [
    "뻘짓임 간결하게 할 수 있을 듯"
   ]
  },
  {
   "cell_type": "code",
   "execution_count": null,
   "metadata": {},
   "outputs": [],
   "source": [
    "from sys import stdin\n",
    "input = stdin.readline\n",
    "\n",
    "N = int(input())\n",
    "K = 1\n",
    "while K<N:\n",
    "    K<<=1\n",
    "INF = 1e9+1\n",
    "segTree = [-1] + [INF]*(K-1)+list(map(int, input().split())) + [INF]*(K-N)\n",
    "segidx = [-1] + [N]*(K-1) + list(range(1,N+1)) + [INF]*(K-N)\n",
    "\n",
    "for i in range(K-1, 0, -1):\n",
    "    if segTree[i*2] <= segTree[i*2+1]:\n",
    "        segTree[i] = segTree[i*2]\n",
    "        segidx[i] = segidx[i*2]\n",
    "    else:\n",
    "        segTree[i] = segTree[i*2+1]\n",
    "        segidx[i] = segidx[i*2+1]\n",
    "\n",
    "def find(node, s, e, i, v):\n",
    "    if v<s or e<i:\n",
    "        return INF, INF\n",
    "    elif i<=s and e<=v:\n",
    "        return segTree[node], segidx[node]\n",
    "    \n",
    "    mid = (s+e)//2\n",
    "    a, b = find(node*2, s, mid, i, v)\n",
    "    c, d = find(node*2+1, mid+1, e, i, v)\n",
    "    if a<=c:\n",
    "        return a, b\n",
    "    else:\n",
    "        return c, d\n",
    "    \n",
    "for _ in range(int(input())):\n",
    "    command, i, v = map(int, input().split())\n",
    "    if command == 1:\n",
    "        temp = i+K-1\n",
    "        segTree[temp] = v\n",
    "        while temp>1:\n",
    "            temp >>= 1\n",
    "            if segTree[temp*2] <= segTree[temp*2+1]:\n",
    "                segTree[temp] = segTree[temp*2]\n",
    "                segidx[temp] = segidx[temp*2]\n",
    "            else:\n",
    "                segTree[temp] = segTree[temp*2+1]\n",
    "                segidx[temp] = segidx[temp*2+1]\n",
    "    if command == 2:\n",
    "        value, idx = find(1, 1, K, i, v)\n",
    "        print(idx)"
   ]
  },
  {
   "cell_type": "code",
   "execution_count": null,
   "metadata": {},
   "outputs": [],
   "source": [
    "from sys import stdin\n",
    "input = stdin.readline\n",
    "\n",
    "N = int(input())\n",
    "K = 1<<len(format(N-1, 'b'))\n",
    "INF = 1e9\n",
    "segTree = [INF]*(2*K+1)\n",
    "\n",
    "for idx, i in enumerate(map(int, input().split())):\n",
    "    segTree[idx+K] = i\n",
    "\n",
    "for i in range(K-1, 0, -1):\n",
    "    segTree[i] = min(segTree[i<<1], segTree[(i<<1)|1])\n",
    "\n",
    "for _ in range(int(input())):\n",
    "    command, i, v = map(int, input().split())\n",
    "    \n",
    "    if command == 1:\n",
    "        i += K-1\n",
    "        segTree[i] = v\n",
    "        while i>1:\n",
    "            i >>= 1\n",
    "            segTree[i] = min(segTree[i<<1], segTree[(i<<1)|1])\n",
    "            \n",
    "    elif command == 2:\n",
    "        smallest = INF\n",
    "        l, r = i+K-1, v+K-1\n",
    "        while l<=r:\n",
    "            if l&1:\n",
    "                smallest = min(smallest, segTree[l])\n",
    "                l+=1\n",
    "            if not (r & 1):\n",
    "                smallest = min(smallest, segTree[r])\n",
    "                r-=1\n",
    "            l >>= 1\n",
    "            r >>= 1\n",
    "            \n",
    "        for j in range(i+K-1, v+K):\n",
    "            if segTree[j] == smallest:\n",
    "                print(j-(K-1))\n",
    "                break"
   ]
  }
 ],
 "metadata": {
  "kernelspec": {
   "display_name": "Python 3",
   "language": "python",
   "name": "python3"
  },
  "language_info": {
   "name": "python",
   "version": "3.11.0"
  },
  "orig_nbformat": 4,
  "vscode": {
   "interpreter": {
    "hash": "345bda58c76f8d879425f4e4efb3da9cbd4530b50a41e82e33d0a3697756a97a"
   }
  }
 },
 "nbformat": 4,
 "nbformat_minor": 2
}
