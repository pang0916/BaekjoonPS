{
 "cells": [
  {
   "attachments": {},
   "cell_type": "markdown",
   "metadata": {},
   "source": [
    "3830 교수님은 기다리지 않는다.\n",
    "---\n",
    "플레3, union find"
   ]
  },
  {
   "cell_type": "code",
   "execution_count": null,
   "metadata": {},
   "outputs": [],
   "source": [
    "from sys import stdin, setrecursionlimit\n",
    "setrecursionlimit(100000)\n",
    "input = stdin.readline\n",
    "\n",
    "def find(x):\n",
    "    if parents[x] == x:\n",
    "        return x\n",
    "    \n",
    "    temp = find(parents[x])\n",
    "    differ[x] += differ[parents[x]]\n",
    "    parents[x] = temp\n",
    "    return parents[x]\n",
    "\n",
    "def union(x, y, t):\n",
    "    a = find(x)\n",
    "    b = find(y)\n",
    "    \n",
    "    if a <= b:\n",
    "        parents[b] = a\n",
    "        differ[b] = differ[x] + t - differ[y]\n",
    "    else:\n",
    "        parents[a] = b\n",
    "        differ[a] = differ[y] - t - differ[x]\n",
    "        \n",
    "def get(x, y):\n",
    "    a = find(x)\n",
    "    b = find(y)\n",
    "    if a==b:\n",
    "        print(differ[y]-differ[x])\n",
    "    else:\n",
    "        print(\"UNKNOWN\")\n",
    "\n",
    "while True:\n",
    "    n, m = map(int, input().split())\n",
    "    if n == 0 and m == 0: break\n",
    "    \n",
    "    parents = list(range(n+1))\n",
    "    differ = [0]*(n+1)\n",
    "    for i in range(m):\n",
    "        x = input().split()\n",
    "        if x[0] =='!':\n",
    "            union(int(x[1]),int(x[2]),int(x[3]))\n",
    "        else:\n",
    "            get(int(x[1]), int(x[2]))"
   ]
  }
 ],
 "metadata": {
  "kernelspec": {
   "display_name": "Python 3",
   "language": "python",
   "name": "python3"
  },
  "language_info": {
   "name": "python",
   "version": "3.11.0"
  },
  "orig_nbformat": 4,
  "vscode": {
   "interpreter": {
    "hash": "345bda58c76f8d879425f4e4efb3da9cbd4530b50a41e82e33d0a3697756a97a"
   }
  }
 },
 "nbformat": 4,
 "nbformat_minor": 2
}
