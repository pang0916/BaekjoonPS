{
 "cells": [
  {
   "attachments": {},
   "cell_type": "markdown",
   "metadata": {},
   "source": [
    "1086_박성원\n",
    "\n",
    "플레5, 비트필드 dp"
   ]
  },
  {
   "attachments": {},
   "cell_type": "markdown",
   "metadata": {},
   "source": [
    "dp[visited][hashtable] -> dp[11011(2)] 에는 0134번 index 애들을 앞에서부터 세웠을 때 나머지들을 나타냄\n",
    "나누는 숫자 = 5 일때, [1, 0, 5, 2, 7, 1] 이런식. (나머지가 0인경우가 1개 1인경우가 0개, 2인경우가 5개...)\n",
    "마지막은 방문했는지 여부 방문했으면 1, 안했으면 0\n",
    "\n",
    "ex) 123, 456, 789,   21로 나눔\n",
    "dp[1] -> 123+(456789 or 789456 결정아직 안됨) -> \n",
    "inputs에 123이 가공되어있음 0번 인덱스에는 3자리이므로 1000을 21로 나눈 나머지가, 1번 인덱스에는 123을 21로 나눈 나머지(18)가 저장.\n",
    "그러면 dp[1][18] = 1 이고, visited_flag인 dp[1][21] = 1 이됨. (dp[1][0, 1, 2, 3 ... ] 얘네는 나머지가 안가능하니까 0.)\n",
    "dp[5 (101)] 에서는 dp[1]과 dp[4]에 있는 모든 애들을 다 계산해서 얻음."
   ]
  },
  {
   "cell_type": "code",
   "execution_count": null,
   "metadata": {},
   "outputs": [],
   "source": [
    "from sys import stdin\n",
    "input = stdin.readline\n",
    "\n",
    "def input_parser():\n",
    "    sizeOfInputs = int(input())\n",
    "    row_inputs = [int(input()) for _ in range(sizeOfInputs)]\n",
    "    modular = int(input())\n",
    "    \n",
    "    #dp[visited][lastvisited]\n",
    "    dp = [[0]*(modular+1) for i in range(1<<sizeOfInputs)]\n",
    "    \n",
    "    digits = [1]\n",
    "    for i in range(1, 51):\n",
    "        digits.append((digits[-1]*10)%modular)\n",
    "        \n",
    "    for i in range(sizeOfInputs):\n",
    "        row_inputs[i] = (digits[len(str(row_inputs[i]))], row_inputs[i]%modular)\n",
    "        dp[1<<i][row_inputs[i][1]] += 1\n",
    "        dp[1<<i][modular] = 1\n",
    "        \n",
    "    return sizeOfInputs, row_inputs, modular, dp\n",
    "\n",
    "sizeOfInputs, inputs, modular, dp = input_parser()\n",
    "\n",
    "def find(visited):\n",
    "    if dp[visited][modular] != 0:\n",
    "        return\n",
    "    \n",
    "    dp[visited][modular] = 1\n",
    "    for i in range(sizeOfInputs):\n",
    "        if visited & (1<<i):\n",
    "            find(visited-(1<<i))\n",
    "            for j in range(modular):\n",
    "                if dp[visited-(1<<i)][j] != 0:\n",
    "                    dp[visited][(j*inputs[i][0]+inputs[i][1])%modular] += dp[visited-(1<<i)][j]\n",
    "    \n",
    "     \n",
    "def Euclidean(big, small):\n",
    "    remain = big%small\n",
    "    if remain == 0:\n",
    "        return small\n",
    "    else:\n",
    "        return Euclidean(small, remain)\n",
    "\n",
    "find((1<<sizeOfInputs)-1)\n",
    "head = dp[-1][0]\n",
    "tail = 1\n",
    "\n",
    "for i in range(2, sizeOfInputs+1):\n",
    "    maximum = Euclidean(head, i)\n",
    "    head //= maximum\n",
    "    tail *= (i//maximum)\n",
    "\n",
    "print(f\"{head}/{tail}\")"
   ]
  }
 ],
 "metadata": {
  "kernelspec": {
   "display_name": "Python 3",
   "language": "python",
   "name": "python3"
  },
  "language_info": {
   "name": "python",
   "version": "3.11.0 (main, Oct 24 2022, 18:26:48) [MSC v.1933 64 bit (AMD64)]"
  },
  "orig_nbformat": 4,
  "vscode": {
   "interpreter": {
    "hash": "345bda58c76f8d879425f4e4efb3da9cbd4530b50a41e82e33d0a3697756a97a"
   }
  }
 },
 "nbformat": 4,
 "nbformat_minor": 2
}
