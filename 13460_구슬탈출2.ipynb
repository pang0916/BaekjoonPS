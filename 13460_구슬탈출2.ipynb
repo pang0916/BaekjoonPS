{
 "cells": [
  {
   "attachments": {},
   "cell_type": "markdown",
   "metadata": {},
   "source": [
    "13460 구슬탈출2\n",
    "골드1, 구현, bfs\n",
    "dfs로 하려니까 겹치는게 많아서 bfs로 dp 만들어서 해야할듯"
   ]
  },
  {
   "cell_type": "code",
   "execution_count": null,
   "metadata": {},
   "outputs": [],
   "source": [
    "import sys\n",
    "from collections import deque\n",
    "input = sys.stdin.readline\n",
    "\n",
    "row, column = map(int, input().split())\n",
    "dp = [[False]*(row*column) for _ in range(row*column)]\n",
    "\n",
    "board = []\n",
    "for i in range(row):\n",
    "    board.extend(list(input().rstrip()))\n",
    "\n",
    "result = 11\n",
    "red, blue, hole = 0, 0, 0\n",
    "for i in range(len(board)):\n",
    "    if board[i]=='R':\n",
    "        red = i\n",
    "        board[i] = '.'\n",
    "    elif board[i]=='B':\n",
    "        blue = i\n",
    "        board[i] = '.'\n",
    "    elif board[i]=='O':\n",
    "        hole = i\n",
    "\n",
    "que = deque()\n",
    "que.append([red, blue])\n",
    "\n",
    "# right, left, down, up\n",
    "directions = [1, -1, column, -column]\n",
    "\n",
    "def move(target, direction, ban):\n",
    "    while board[target] == '.':\n",
    "        target += directions[direction]\n",
    "        if target == ban:\n",
    "            break\n",
    "        \n",
    "    if board[target] == 'O':\n",
    "        return 0\n",
    "    else:\n",
    "        return target - directions[direction]\n",
    "\n",
    "count = 1\n",
    "dp[red][blue] = True\n",
    "\n",
    "while count <= 10:\n",
    "    for i in range(len(que)):\n",
    "        red, blue = que.popleft()\n",
    "        \n",
    "        flag = 0 if red>blue else 1\n",
    "        for i in range(4):\n",
    "            if (i+flag)%2 == 0:\n",
    "                r = move(red, i, 0)\n",
    "                b = move(blue, i, r)\n",
    "            else:\n",
    "                b = move(blue, i, 0)\n",
    "                r = move(red, i , b)\n",
    "                \n",
    "            if r == 0:\n",
    "                if b != 0:\n",
    "                    result = min(result, count)\n",
    "                continue\n",
    "            if b == 0:\n",
    "                continue\n",
    "            \n",
    "            if not dp[r][b]:\n",
    "                dp[r][b] = True\n",
    "                que.append([r, b])\n",
    "    count += 1\n",
    "    \n",
    "print(result) if result!=11 else print(-1)"
   ]
  }
 ],
 "metadata": {
  "kernelspec": {
   "display_name": "Python 3",
   "language": "python",
   "name": "python3"
  },
  "language_info": {
   "name": "python",
   "version": "3.11.0 (main, Oct 24 2022, 18:26:48) [MSC v.1933 64 bit (AMD64)]"
  },
  "orig_nbformat": 4,
  "vscode": {
   "interpreter": {
    "hash": "345bda58c76f8d879425f4e4efb3da9cbd4530b50a41e82e33d0a3697756a97a"
   }
  }
 },
 "nbformat": 4,
 "nbformat_minor": 2
}
