{
 "cells": [
  {
   "attachments": {},
   "cell_type": "markdown",
   "metadata": {},
   "source": [
    "16978 수열과쿼리22\n",
    "---\n",
    "플레4, 세그먼트 트리, PST"
   ]
  },
  {
   "attachments": {},
   "cell_type": "markdown",
   "metadata": {},
   "source": [
    "정형화된 기억법이 있는듯."
   ]
  },
  {
   "cell_type": "code",
   "execution_count": null,
   "metadata": {},
   "outputs": [],
   "source": [
    "from sys import stdin\n",
    "from bisect import bisect_right\n",
    "input = stdin.readline\n",
    "\n",
    "n = int(input())\n",
    "k = 1<<len(format(n-1, 'b'))\n",
    "tree = [[[0], [0]] for _ in range(2*k)]\n",
    "for idx, i in enumerate(map(int, input().split())):\n",
    "    tree[idx+k][0][0] = i\n",
    "k -= 1\n",
    "for i in range(k, 0, -1):\n",
    "    tree[i][0][0] = tree[i<<1][0][0]+tree[(i<<1)|1][0][0]\n",
    "\n",
    "count = 0\n",
    "for _ in range(int(input())):\n",
    "    x = list(map(int, input().split()))\n",
    "    \n",
    "    if x[0] == 1:\n",
    "        count += 1\n",
    "        x[1] += k\n",
    "        tree[x[1]][0].append(x[2])\n",
    "        tree[x[1]][1].append(count)\n",
    "        x[1] >>= 1\n",
    "        while x[1]>=1:\n",
    "            tree[x[1]][0].append(tree[x[1]<<1][0][-1]+tree[(x[1]<<1)|1][0][-1])\n",
    "            tree[x[1]][1].append(count)\n",
    "            x[1] >>= 1\n",
    "            \n",
    "    elif x[0] == 2:\n",
    "        l = x[2]+k\n",
    "        r = x[3]+k\n",
    "        result = 0\n",
    "        while l<=r:\n",
    "            if l&1:\n",
    "                temp = bisect_right(tree[l][1], x[1])-1\n",
    "                result += tree[l][0][temp]\n",
    "                l+=1\n",
    "            if not r&1:\n",
    "                temp = bisect_right(tree[r][1], x[1])-1\n",
    "                result += tree[r][0][temp]\n",
    "                r-=1\n",
    "            l >>= 1\n",
    "            r >>= 1\n",
    "        print(result)"
   ]
  },
  {
   "attachments": {},
   "cell_type": "markdown",
   "metadata": {},
   "source": [
    "1등꺼 베껴왔는데 트리를 기억하는게 아니라 쿼리 순서를 조작함.\n",
    "\n",
    "오프라인 쿼리는 가능하겠지만 온라인에서는 불가능한 편법인듯"
   ]
  },
  {
   "cell_type": "code",
   "execution_count": null,
   "metadata": {},
   "outputs": [],
   "source": [
    "import bisect\n",
    "import sys\n",
    "input = sys.stdin.readline\n",
    "\n",
    "N = int(input()) +1\n",
    "\n",
    "L = [0]+list(map(int,input().split()))\n",
    "\n",
    "update = [(0,0)]\n",
    "read = [[]]\n",
    "\n",
    "RST = []\n",
    "\n",
    "idx = 0\n",
    "for _ in range(int(input())):\n",
    "    A = map(int,input().split())\n",
    "    if next(A) == 1:\n",
    "        i, v = A\n",
    "        update.append( (i,v))\n",
    "        read.append( [])\n",
    "    else:\n",
    "        k,i,j = A\n",
    "        read[k].append( (idx,i,j))\n",
    "        RST.append(0)\n",
    "        idx += 1\n",
    "\n",
    "seg = [0]*N+L\n",
    "for i in range(N-1,0,-1):\n",
    "    seg[i] = seg[i*2]+seg[i*2+1]\n",
    "    \n",
    "for i in range(len(update)):\n",
    "    n, v = update[i]\n",
    "    idx = n+N\n",
    "    diff = v - seg[idx]\n",
    "    while idx:\n",
    "        seg[idx] += diff\n",
    "        idx //= 2\n",
    "\n",
    "    for a,b,c in read[i]:\n",
    "        #RST[a]에 더함\n",
    "        s = b+N\n",
    "        e = c+N+1\n",
    "        while s<e:\n",
    "            if s%2:\n",
    "                RST[a] += seg[s]\n",
    "                s += 1\n",
    "            if e%2:\n",
    "                e -= 1\n",
    "                RST[a] += seg[e]\n",
    "            s//=2\n",
    "            e//=2\n",
    "print(*RST)\n"
   ]
  }
 ],
 "metadata": {
  "kernelspec": {
   "display_name": "Python 3",
   "language": "python",
   "name": "python3"
  },
  "language_info": {
   "name": "python",
   "version": "3.11.0"
  },
  "orig_nbformat": 4,
  "vscode": {
   "interpreter": {
    "hash": "345bda58c76f8d879425f4e4efb3da9cbd4530b50a41e82e33d0a3697756a97a"
   }
  }
 },
 "nbformat": 4,
 "nbformat_minor": 2
}
