{
 "cells": [
  {
   "attachments": {},
   "cell_type": "markdown",
   "metadata": {},
   "source": [
    "2243 사탕상자\n",
    "---\n",
    "플레5, 세그먼트 트리"
   ]
  },
  {
   "attachments": {},
   "cell_type": "markdown",
   "metadata": {},
   "source": [
    "1000000개를 담는 특이한 발상이긴함"
   ]
  },
  {
   "cell_type": "code",
   "execution_count": null,
   "metadata": {},
   "outputs": [],
   "source": [
    "from sys import stdin\n",
    "input = stdin.readline\n",
    "\n",
    "n = int(input())\n",
    "k = 1<<(len(format(1000000, 'b')))\n",
    "tree = [0]*(2*k)\n",
    "k -= 1\n",
    "\n",
    "def find(node, x):\n",
    "    tree[node] -= 1\n",
    "    if k < node:\n",
    "        return node-k\n",
    "    if tree[node<<1] >= x:\n",
    "        return find(node<<1, x)\n",
    "    else:\n",
    "        return find((node<<1)|1, x-tree[node<<1])\n",
    "\n",
    "for i in range(n):\n",
    "    x = list(map(int, input().split()))\n",
    "    \n",
    "    if x[0] == 1:\n",
    "        print(find(1, x[1]))\n",
    "    elif x[0] == 2:\n",
    "        x[1] += k\n",
    "        while x[1] >= 1:\n",
    "            tree[x[1]] += x[2]\n",
    "            x[1] >>= 1"
   ]
  }
 ],
 "metadata": {
  "kernelspec": {
   "display_name": "Python 3",
   "language": "python",
   "name": "python3"
  },
  "language_info": {
   "name": "python",
   "version": "3.11.0"
  },
  "orig_nbformat": 4,
  "vscode": {
   "interpreter": {
    "hash": "345bda58c76f8d879425f4e4efb3da9cbd4530b50a41e82e33d0a3697756a97a"
   }
  }
 },
 "nbformat": 4,
 "nbformat_minor": 2
}
