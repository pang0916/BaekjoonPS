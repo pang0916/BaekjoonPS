{
 "cells": [
  {
   "attachments": {},
   "cell_type": "markdown",
   "metadata": {},
   "source": [
    "1030 프렉탈 평면\n",
    "\n",
    "골드3, 구현, 재귀"
   ]
  },
  {
   "attachments": {},
   "cell_type": "markdown",
   "metadata": {},
   "source": [
    "와 1등\n",
    "\n",
    "각 프렉탈의 왼쪽위 모서리를 기준으로 함수를 돌림.\n",
    "\n",
    "범위에 포함되는 애들만 골라서 다음 함수에 넣고\n",
    "\n",
    "메모리 초과 막으려고 필요한 부분만 저장함."
   ]
  },
  {
   "cell_type": "code",
   "execution_count": null,
   "metadata": {},
   "outputs": [],
   "source": [
    "from sys import stdin\n",
    "input = stdin.readline\n",
    "\n",
    "s, N, K, r1, r2, c1, c2 = map(int, input().split())\n",
    "size = N**s\n",
    "ksize = (size//N)*K\n",
    "board = [[False]*(c2-c1+1) for _ in range(r2-r1+1)]\n",
    "\n",
    "def color(row, column, size, ksize):\n",
    "    if size == 1:\n",
    "        return\n",
    "    \n",
    "    notk = (size - ksize)//2\n",
    "    for i in range(max(row+notk, r1), min(row+notk+ksize, r2+1)):\n",
    "        for j in range(max(column+notk, c1), min(column+notk+ksize, c2+1)):\n",
    "            board[i-r1][j-c1] = True\n",
    "    \n",
    "    digit = size//N\n",
    "    \n",
    "    rowstart = row\n",
    "    columnstart = column\n",
    "    while rowstart+digit <= r1:\n",
    "        rowstart += digit\n",
    "    while columnstart+digit <= c1:\n",
    "        columnstart += digit\n",
    "    \n",
    "    for i in range(rowstart, min(r2+1, row+size), digit):\n",
    "        for j in range(columnstart, min(c2+1, column+size), digit):\n",
    "            if (row+notk <= i and i < row+notk+ksize) and (column+notk <= j and j < column+notk+ksize):\n",
    "                continue\n",
    "            color(i, j, digit, ksize//N)\n",
    "        \n",
    "color(0, 0, size, ksize)\n",
    "result = []\n",
    "for i in range(r2-r1+1):\n",
    "    result.append(\"\".join(map(lambda x: '1' if x else '0', board[i])))\n",
    "print(\"\\n\".join(result))"
   ]
  }
 ],
 "metadata": {
  "kernelspec": {
   "display_name": "Python 3",
   "language": "python",
   "name": "python3"
  },
  "language_info": {
   "name": "python",
   "version": "3.11.0"
  },
  "orig_nbformat": 4,
  "vscode": {
   "interpreter": {
    "hash": "345bda58c76f8d879425f4e4efb3da9cbd4530b50a41e82e33d0a3697756a97a"
   }
  }
 },
 "nbformat": 4,
 "nbformat_minor": 2
}
