{
 "cells": [
  {
   "attachments": {},
   "cell_type": "markdown",
   "metadata": {},
   "source": [
    "2357_최솟값과 최댓값\n",
    "\n",
    "골드1, 세그먼트 트리"
   ]
  },
  {
   "attachments": {},
   "cell_type": "markdown",
   "metadata": {},
   "source": [
    "왜케느린지 복습필요..."
   ]
  },
  {
   "cell_type": "code",
   "execution_count": null,
   "metadata": {},
   "outputs": [],
   "source": [
    "from sys import stdin\n",
    "input = stdin.readline\n",
    "INF = 1e9\n",
    "\n",
    "def makeTree(start, end, idx):\n",
    "    if start == end:\n",
    "        segmentTree[idx][0] = numbers[start]\n",
    "        segmentTree[idx][1] = numbers[start]\n",
    "    else:\n",
    "        mid = start+(end-start)//2\n",
    "        min1, max1 = makeTree(start, mid, idx*2+1)\n",
    "        min2, max2 = makeTree(mid+1, end, idx*2+2)\n",
    "        segmentTree[idx][0] = min(min1, min2)\n",
    "        segmentTree[idx][1] = max(max1, max2)\n",
    "        \n",
    "    return segmentTree[idx]\n",
    "\n",
    "def find(start, end, idx, leftend, rightend):\n",
    "    mid = leftend + (rightend - leftend)//2\n",
    "    if start == leftend and end == rightend:\n",
    "        return segmentTree[idx]\n",
    "    if start > mid:\n",
    "        return find(start, end, idx*2+2, mid+1, rightend)\n",
    "    elif end <= mid:\n",
    "        return find(start, end, idx*2+1, leftend, mid)\n",
    "    else:\n",
    "        min1, max1 = find(start, mid, idx*2+1, leftend, mid)\n",
    "        min2, max2 = find(mid+1, end, idx*2+2, mid+1, rightend)\n",
    "        return min(min1, min2), max(max1, max2)\n",
    "\n",
    "sizeNumber, sizeRange = map(int, input().split())\n",
    "treeSize = 1\n",
    "while treeSize < sizeNumber:\n",
    "    treeSize = treeSize << 1\n",
    "treeSize *= 2\n",
    "\n",
    "segmentTree = [[INF, 0] for _ in range(treeSize)]\n",
    "numbers = [int(input()) for _ in range(sizeNumber)]\n",
    "makeTree(0, sizeNumber-1, 0)\n",
    "\n",
    "result = []\n",
    "for _ in range(sizeRange):\n",
    "    start, end = map(int, input().split())\n",
    "    result.append(find(start-1, end-1, 0, 0, sizeNumber-1))\n",
    "    \n",
    "print(\"\\n\".join(map(lambda x: f\"{x[0]} {x[1]}\", result)))"
   ]
  }
 ],
 "metadata": {
  "kernelspec": {
   "display_name": "Python 3",
   "language": "python",
   "name": "python3"
  },
  "language_info": {
   "name": "python",
   "version": "3.11.0 (main, Oct 24 2022, 18:26:48) [MSC v.1933 64 bit (AMD64)]"
  },
  "orig_nbformat": 4,
  "vscode": {
   "interpreter": {
    "hash": "345bda58c76f8d879425f4e4efb3da9cbd4530b50a41e82e33d0a3697756a97a"
   }
  }
 },
 "nbformat": 4,
 "nbformat_minor": 2
}
