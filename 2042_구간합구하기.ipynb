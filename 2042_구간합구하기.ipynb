{
 "cells": [
  {
   "attachments": {},
   "cell_type": "markdown",
   "metadata": {},
   "source": [
    "2042_구간합구하기\n",
    "\n",
    "골드1, 세그먼트 트리"
   ]
  },
  {
   "attachments": {},
   "cell_type": "markdown",
   "metadata": {},
   "source": [
    "l, r = b + N - 1, c + N - 1\n",
    "        while l < r:\n",
    "            if l & 1:\n",
    "                sum += segmentTree[l]\n",
    "                l += 1\n",
    "            if not r & 1:\n",
    "                sum += segmentTree[r]\n",
    "                r -= 1\n",
    "            l >>= 1\n",
    "            r >>= 1\n",
    "        if l == r:\n",
    "            sum += segmentTree[r]\n",
    "\n",
    "이 부분의 정석이\n",
    "\n",
    "l, r = b + N - 1, c + N\n",
    "        while l < r:\n",
    "            if l & 1:\n",
    "                sum += segmentTree[l]\n",
    "                l += 1\n",
    "            if r & 1:\n",
    "                r -= 1\n",
    "                sum += segmentTree[r]\n",
    "            l >>= 1\n",
    "            r >>= 1\n",
    "\n",
    "이건데... 차이가 많나? -> 30ms 정도로 무의미."
   ]
  },
  {
   "cell_type": "code",
   "execution_count": null,
   "metadata": {},
   "outputs": [],
   "source": [
    "from sys import stdin\n",
    "input = stdin.readline\n",
    "\n",
    "N, M, K = map(int, input().split())\n",
    "segmentTree = [0]*N + [int(input()) for _ in range(N)]\n",
    "\n",
    "for i in range(N-1, 0, -1):\n",
    "    segmentTree[i] = segmentTree[i<<1] + segmentTree[i<<1|1]\n",
    "\n",
    "result = []\n",
    "for _ in range(M+K):\n",
    "    a, b, c = map(int, input().split())\n",
    "    if a == 1:\n",
    "        b += N - 1\n",
    "        diff = c - segmentTree[b]\n",
    "        while b != 0:\n",
    "            segmentTree[b] += diff\n",
    "            b >>= 1\n",
    "    \n",
    "    elif a == 2:\n",
    "        sum = 0\n",
    "        l, r = b + N - 1, c + N - 1\n",
    "        while l < r:\n",
    "            if l & 1:\n",
    "                sum += segmentTree[l]\n",
    "                l += 1\n",
    "            if not r & 1:\n",
    "                sum += segmentTree[r]\n",
    "                r -= 1\n",
    "            l >>= 1\n",
    "            r >>= 1\n",
    "        if l == r:\n",
    "            sum += segmentTree[r]\n",
    "        result.append(sum)\n",
    "\n",
    "print(\"\\n\".join(map(str, result)))"
   ]
  },
  {
   "attachments": {},
   "cell_type": "markdown",
   "metadata": {},
   "source": [
    "곱구하기\n",
    "\n",
    "-> diff처럼 하면 division by zero 나옴"
   ]
  },
  {
   "cell_type": "code",
   "execution_count": null,
   "metadata": {},
   "outputs": [],
   "source": [
    "from sys import stdin\n",
    "input = stdin.readline\n",
    "\n",
    "N, M, K = map(int, input().split())\n",
    "INF = 1000000007\n",
    "segmentTree = [0]*N + [int(input()) for _ in range(N)]\n",
    "\n",
    "for i in range(N-1, 0, -1):\n",
    "    segmentTree[i] = (segmentTree[i<<1] * segmentTree[i<<1|1]) % INF\n",
    "\n",
    "result = []\n",
    "for _ in range(M+K):\n",
    "    a, b, c = map(int, input().split())\n",
    "    if a == 1:\n",
    "        b += N - 1\n",
    "        segmentTree[b] = c\n",
    "        while b != 0:\n",
    "            b >>= 1\n",
    "            segmentTree[b] = (segmentTree[b<<1] * segmentTree[b<<1|1]) % INF\n",
    "    \n",
    "    elif a == 2:\n",
    "        mul = 1\n",
    "        l, r = b + N - 1, c + N - 1\n",
    "        while l < r:\n",
    "            if l & 1:\n",
    "                mul *= segmentTree[l]\n",
    "                mul %= INF\n",
    "                l += 1\n",
    "            if not r & 1:\n",
    "                mul *= segmentTree[r]\n",
    "                mul %= INF\n",
    "                r -= 1\n",
    "            l >>= 1\n",
    "            r >>= 1\n",
    "        if l == r:\n",
    "            mul *= segmentTree[r]\n",
    "            mul %= INF\n",
    "        result.append(mul)\n",
    "\n",
    "print(\"\\n\".join(map(str, result)))"
   ]
  }
 ],
 "metadata": {
  "kernelspec": {
   "display_name": "Python 3",
   "language": "python",
   "name": "python3"
  },
  "language_info": {
   "name": "python",
   "version": "3.11.0 (main, Oct 24 2022, 18:26:48) [MSC v.1933 64 bit (AMD64)]"
  },
  "orig_nbformat": 4,
  "vscode": {
   "interpreter": {
    "hash": "345bda58c76f8d879425f4e4efb3da9cbd4530b50a41e82e33d0a3697756a97a"
   }
  }
 },
 "nbformat": 4,
 "nbformat_minor": 2
}
