{
 "cells": [
  {
   "attachments": {},
   "cell_type": "markdown",
   "metadata": {},
   "source": [
    "2150 Strongly Connected Component\n",
    "---\n",
    "플레 5, SCC"
   ]
  },
  {
   "attachments": {},
   "cell_type": "markdown",
   "metadata": {},
   "source": [
    "타잔 알고리즘. dfs 트리와 stack 이용"
   ]
  },
  {
   "cell_type": "code",
   "execution_count": null,
   "metadata": {},
   "outputs": [],
   "source": [
    "from sys import stdin, setrecursionlimit\n",
    "from heapq import heappop, heappush\n",
    "input = stdin.readline\n",
    "setrecursionlimit(12000)\n",
    "\n",
    "VertexSize, EdgeSize = map(int, input().split())\n",
    "graph = [[] for _ in range(VertexSize+1)]\n",
    "for _ in range(EdgeSize):\n",
    "    s, e = map(int, input().split())\n",
    "    heappush(graph[s], -e)\n",
    "    \n",
    "stack = []\n",
    "visited = [-1]*(VertexSize+1)\n",
    "dfsn = 0\n",
    "finished = [False]*(VertexSize+1)\n",
    "result = []\n",
    "\n",
    "def dfs(v):\n",
    "    global dfsn\n",
    "    visited[v] = dfsn\n",
    "    flag = visited[v]\n",
    "    dfsn += 1\n",
    "    while graph[v]:\n",
    "        x = -heappop(graph[v])\n",
    "        if visited[x] == -1:\n",
    "            stack.append(x)\n",
    "            flag = min(dfs(x), flag)\n",
    "        elif not finished[x]:\n",
    "            flag = min(visited[x], flag)\n",
    "    \n",
    "    if flag < visited[v]:\n",
    "        return flag\n",
    "            \n",
    "    SCC = []\n",
    "    while True:\n",
    "        y = stack.pop()\n",
    "        finished[y] = True\n",
    "        SCC.append(y)\n",
    "        if y == v:\n",
    "            SCC.sort()\n",
    "            SCC.append(-1)\n",
    "            result.append(SCC)\n",
    "            return 10001\n",
    "\n",
    "for i in range(VertexSize, 0, -1):\n",
    "    if not finished[i]:\n",
    "        stack.append(i)\n",
    "        dfs(i)\n",
    "\n",
    "print(len(result))\n",
    "result.sort()\n",
    "for i in range(len(result)):\n",
    "    print(*result[i])"
   ]
  }
 ],
 "metadata": {
  "language_info": {
   "name": "python"
  },
  "orig_nbformat": 4
 },
 "nbformat": 4,
 "nbformat_minor": 2
}
