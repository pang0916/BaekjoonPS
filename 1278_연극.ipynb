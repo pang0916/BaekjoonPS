{
 "cells": [
  {
   "attachments": {},
   "cell_type": "markdown",
   "metadata": {},
   "source": [
    "1278 연극\n",
    "\n",
    "골드3, 수학, 재귀"
   ]
  },
  {
   "attachments": {},
   "cell_type": "markdown",
   "metadata": {},
   "source": [
    "천천히 써보면 쉬운건데..."
   ]
  },
  {
   "cell_type": "code",
   "execution_count": null,
   "metadata": {},
   "outputs": [],
   "source": [
    "N = int(input())\n",
    "\n",
    "print((2**N)-1)\n",
    "result = []\n",
    "\n",
    "# 1 -> 1                            -> 1\n",
    "# 2 -> 1 2 1                        -> f1 2 f1\n",
    "# 3 -> f(2) 3 1 2 1                 -> f2 3 f2\n",
    "# 4 -> f(3) 4 (1 2 1) 3 (1) 2 1     -> f3 4 f3\n",
    "\n",
    "def find(x):\n",
    "    if x == 1:\n",
    "        result.append(1)\n",
    "        return\n",
    "    find(x-1)\n",
    "    result.append(x)\n",
    "    find(x-1)\n",
    "\n",
    "find(N)\n",
    "result.append(N)\n",
    "print(\"\\n\".join(map(str, result)))"
   ]
  },
  {
   "cell_type": "code",
   "execution_count": null,
   "metadata": {},
   "outputs": [],
   "source": [
    "N = int(input())\n",
    "\n",
    "print((2**N)-1)\n",
    "result = [1]\n",
    "\n",
    "for i in range(2, N+1):\n",
    "    result = result + i + result\n",
    "result.append(N)\n",
    "print(\"\\n\".join(map(str, result)))"
   ]
  }
 ],
 "metadata": {
  "kernelspec": {
   "display_name": "Python 3",
   "language": "python",
   "name": "python3"
  },
  "language_info": {
   "name": "python",
   "version": "3.11.0"
  },
  "orig_nbformat": 4,
  "vscode": {
   "interpreter": {
    "hash": "345bda58c76f8d879425f4e4efb3da9cbd4530b50a41e82e33d0a3697756a97a"
   }
  }
 },
 "nbformat": 4,
 "nbformat_minor": 2
}
