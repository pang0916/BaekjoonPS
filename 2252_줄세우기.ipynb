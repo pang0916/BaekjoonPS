{
 "cells": [
  {
   "attachments": {},
   "cell_type": "markdown",
   "metadata": {},
   "source": [
    "**2252 줄세우기**\n",
    "- 위상정렬 알고리즘\n",
    "\n",
    "골드3 / 2초 / 128MB\n",
    "\n",
    "N명의 학생들을 키 순서대로 줄을 세우려고 한다. 각 학생의 키를 직접 재서 정렬하면 간단하겠지만, 마땅한 방법이 없어서 두 학생의 키를 비교하는 방법을 사용하기로 하였다. 그나마도 모든 학생들을 다 비교해 본 것이 아니고, 일부 학생들의 키만을 비교해 보았다.\n",
    "\n",
    "일부 학생들의 키를 비교한 결과가 주어졌을 때, 줄을 세우는 프로그램을 작성하시오."
   ]
  },
  {
   "attachments": {},
   "cell_type": "markdown",
   "metadata": {},
   "source": [
    "#####\n",
    "queue 나 dfs 이용하여 가능.\n",
    "indegree 와 outdegree 를 정리하면 indegree 없는애들이 leaf node 가 되고 여기서부터 leaf node를 지워가면서 답으로 출력하면 됨."
   ]
  },
  {
   "cell_type": "code",
   "execution_count": null,
   "metadata": {},
   "outputs": [],
   "source": [
    "from sys import stdin\n",
    "from sys import setrecursionlimit\n",
    "setrecursionlimit(32000)\n",
    "input = stdin.readline\n",
    "\n",
    "sizeOfNode, sizeOfEdge = map(int, input().split())\n",
    "result = []\n",
    "\n",
    "nodes = [[0] for i in range(sizeOfNode+1)]\n",
    "IDXOFSIZEOFIN = 0\n",
    "IDXOFOUT = 1\n",
    "\n",
    "for edge in range(sizeOfEdge):\n",
    "    left, right = map(int, input().split())\n",
    "    nodes[left].append(right)\n",
    "    nodes[right][IDXOFSIZEOFIN] += 1\n",
    "\n",
    "def topology_sort(node):\n",
    "    result.append(node)\n",
    "    nodes[node][IDXOFSIZEOFIN] = -1\n",
    "    \n",
    "    for next_node in nodes[node][IDXOFOUT:]:\n",
    "        nodes[next_node][IDXOFSIZEOFIN] -= 1\n",
    "        if nodes[next_node][IDXOFSIZEOFIN] == 0:\n",
    "            topology_sort(next_node)\n",
    "\n",
    "for node in range(1, sizeOfNode+1):\n",
    "    if nodes[node][IDXOFSIZEOFIN] == 0:\n",
    "        topology_sort(node)\n",
    "        \n",
    "print(*result)"
   ]
  }
 ],
 "metadata": {
  "kernelspec": {
   "display_name": "Python 3",
   "language": "python",
   "name": "python3"
  },
  "language_info": {
   "name": "python",
   "version": "3.11.0 (main, Oct 24 2022, 18:26:48) [MSC v.1933 64 bit (AMD64)]"
  },
  "orig_nbformat": 4,
  "vscode": {
   "interpreter": {
    "hash": "345bda58c76f8d879425f4e4efb3da9cbd4530b50a41e82e33d0a3697756a97a"
   }
  }
 },
 "nbformat": 4,
 "nbformat_minor": 2
}
