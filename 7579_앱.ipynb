{
 "cells": [
  {
   "attachments": {},
   "cell_type": "markdown",
   "metadata": {},
   "source": [
    "7579_앱\n",
    "골드3, dp(배낭문제)"
   ]
  },
  {
   "attachments": {},
   "cell_type": "markdown",
   "metadata": {},
   "source": [
    "1) 맞았으나 시간이 2200ms 나옴 최고답은 120ms 정도\n",
    "-> cost가 아닌 byte를 기준으로 배낭 돌려서 그럼"
   ]
  },
  {
   "cell_type": "code",
   "execution_count": null,
   "metadata": {},
   "outputs": [],
   "source": [
    "from sys import stdin\n",
    "input = stdin.readline\n",
    "\n",
    "sizeOfApps, neededByte = map(int, input().split())\n",
    "appsByte = list(map(int, input().split()))\n",
    "appsCost = list(map(int, input().split()))\n",
    "INF = int(1e7)\n",
    "dp = [INF] * (neededByte+1)\n",
    "\n",
    "for i in range(sizeOfApps):\n",
    "    for j in range(neededByte, appsByte[i], -1):\n",
    "        dp[j] = min(dp[j-appsByte[i]]+appsCost[i], dp[j])\n",
    "    for j in range(min(appsByte[i], neededByte), 0, -1):\n",
    "        dp[j] = min(appsCost[i], dp[j])\n",
    "\n",
    "print(dp[neededByte])"
   ]
  },
  {
   "attachments": {},
   "cell_type": "markdown",
   "metadata": {},
   "source": [
    "2) cost 기준으로 다시\n",
    "\n",
    "122ms\n",
    "\n",
    "-> Cost 가 100이 한계고 100개가 한계라 10000이 최대인걸 확인해야함"
   ]
  },
  {
   "cell_type": "code",
   "execution_count": null,
   "metadata": {},
   "outputs": [],
   "source": [
    "from sys import stdin\n",
    "input = stdin.readline\n",
    "\n",
    "sizeOfApps, neededByte = map(int, input().split())\n",
    "appsByte = list(map(int, input().split()))\n",
    "appsCost = list(map(int, input().split()))\n",
    "dp = [0] * 10001\n",
    "\n",
    "for i in range(sizeOfApps):\n",
    "    for j in range(10000, appsCost[i]-1, -1):\n",
    "        dp[j] = max(dp[j-appsCost[i]]+appsByte[i], dp[j])\n",
    "\n",
    "for i in range(10001):\n",
    "    if dp[i] >= neededByte:\n",
    "        print(i)\n",
    "        break"
   ]
  }
 ],
 "metadata": {
  "kernelspec": {
   "display_name": "Python 3",
   "language": "python",
   "name": "python3"
  },
  "language_info": {
   "name": "python",
   "version": "3.11.0 (main, Oct 24 2022, 18:26:48) [MSC v.1933 64 bit (AMD64)]"
  },
  "orig_nbformat": 4,
  "vscode": {
   "interpreter": {
    "hash": "345bda58c76f8d879425f4e4efb3da9cbd4530b50a41e82e33d0a3697756a97a"
   }
  }
 },
 "nbformat": 4,
 "nbformat_minor": 2
}
