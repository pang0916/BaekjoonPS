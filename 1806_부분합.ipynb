{
 "cells": [
  {
   "attachments": {},
   "cell_type": "markdown",
   "metadata": {},
   "source": [
    "**1806_부분합**\n",
    "\n",
    "골드4 // 0.5초 // 128MB // 25.457%\n",
    "\n",
    "10,000 이하의 자연수로 이루어진 길이 N짜리 수열이 주어진다. \n",
    "이 수열에서 연속된 수들의 부분합 중에 그 합이 S 이상이 되는 것 중, 가장 짧은 것의 길이를 구하는 프로그램을 작성하시오."
   ]
  },
  {
   "cell_type": "code",
   "execution_count": null,
   "metadata": {},
   "outputs": [],
   "source": [
    "from sys import stdin\n",
    "input = stdin.readline\n",
    "\n",
    "sizeOfInputs, minOfPartialSum = map(int, input().split())\n",
    "minSizeOfPartialSum = sizeOfInputs + 1\n",
    "\n",
    "Inputs = list(map(int, input().split()))\n",
    "\n",
    "sum = 0\n",
    "sizeOfPartialSum = 0\n",
    "for idx, eachInput in enumerate(Inputs):\n",
    "    sum += eachInput\n",
    "    sizeOfPartialSum += 1\n",
    "    \n",
    "    if sum >= minOfPartialSum:\n",
    "        while sum >= minOfPartialSum:\n",
    "            sizeOfPartialSum -= 1\n",
    "            sum -= Inputs[idx - sizeOfPartialSum]\n",
    "        \n",
    "        minSizeOfPartialSum = min(minSizeOfPartialSum, sizeOfPartialSum + 1)\n",
    "\n",
    "print(minSizeOfPartialSum) if minSizeOfPartialSum != (sizeOfInputs + 1) else print(0)"
   ]
  }
 ],
 "metadata": {
  "kernelspec": {
   "display_name": "Python 3",
   "language": "python",
   "name": "python3"
  },
  "language_info": {
   "name": "python",
   "version": "3.11.0 (main, Oct 24 2022, 18:26:48) [MSC v.1933 64 bit (AMD64)]"
  },
  "orig_nbformat": 4,
  "vscode": {
   "interpreter": {
    "hash": "345bda58c76f8d879425f4e4efb3da9cbd4530b50a41e82e33d0a3697756a97a"
   }
  }
 },
 "nbformat": 4,
 "nbformat_minor": 2
}
