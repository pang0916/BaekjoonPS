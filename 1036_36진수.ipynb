{
 "cells": [
  {
   "attachments": {},
   "cell_type": "markdown",
   "metadata": {},
   "source": [
    "1036 36진수\n",
    "\n",
    "골드1, 수학, 구현"
   ]
  },
  {
   "attachments": {},
   "cell_type": "markdown",
   "metadata": {},
   "source": [
    "아이디어는 처음 생각한대로 맞음. 조금 더 다듬어도 좋을 듯 안다듬어도 낫벳"
   ]
  },
  {
   "cell_type": "code",
   "execution_count": null,
   "metadata": {},
   "outputs": [],
   "source": [
    "from sys import stdin\n",
    "from functools import cmp_to_key\n",
    "input = stdin.readline\n",
    "\n",
    "N = int(input())\n",
    "changeValue = [[0]*52 for _ in range(36)]\n",
    "total = [0]*52\n",
    "digits = [0]*36\n",
    "for _ in range(N):\n",
    "    number = input().rstrip()\n",
    "    for x,i in enumerate(range(len(number)-1, -1, -1)):\n",
    "        character = ord(number[i])\n",
    "        character -= (48 if character<=57 else 55)\n",
    "        total[x] += character\n",
    "        changeValue[character][x] += 35 - character\n",
    "\n",
    "for i in range(36):\n",
    "    digit = 0\n",
    "    for j in range(51):\n",
    "        changeValue[i][j+1] += (changeValue[i][j]//36)\n",
    "        changeValue[i][j] %= 36\n",
    "        if changeValue[i][j+1]:\n",
    "            digit = j+1\n",
    "    digits[i] = digit\n",
    "\n",
    "def order(num1, num2):\n",
    "    if digits[num1] > digits[num2]:\n",
    "        return -1\n",
    "    elif digits[num1] < digits[num2]:\n",
    "        return 1\n",
    "    else:\n",
    "        for i in range(digits[num1], -1, -1):\n",
    "            if changeValue[num1][i] > changeValue[num2][i]:\n",
    "                return -1\n",
    "            elif changeValue[num1][i] < changeValue[num2][i]:\n",
    "                return 1\n",
    "        return 0\n",
    "\n",
    "arr = sorted(list(range(36)), key = cmp_to_key(order))\n",
    "\n",
    "K = int(input())\n",
    "for i in range(K):\n",
    "    for j in range(digits[arr[i]]+1):\n",
    "        total[j] += changeValue[arr[i]][j]\n",
    "\n",
    "answer = []\n",
    "zeroConuter = 0\n",
    "for i in range(51):\n",
    "    total[i+1] += (total[i] // 36)\n",
    "    total[i] %= 36\n",
    "    if total[i] == 0:\n",
    "        zeroConuter += 1\n",
    "    else:\n",
    "        for _ in range(zeroConuter):\n",
    "            answer.append('0')\n",
    "        zeroConuter = 0\n",
    "        answer.append(str(total[i]) if total[i]<10 else chr(total[i]+55))\n",
    "        \n",
    "if total[51] != 0:\n",
    "    for _ in range(zeroConuter):\n",
    "        answer.append('0')\n",
    "    zeroConuter = 0\n",
    "    answer.append(str(total[51]) if total[51]<10 else chr(total[51]+55))\n",
    "\n",
    "if len(answer) == 0:\n",
    "    answer.append('0')\n",
    "answer.reverse()\n",
    "print(\"\".join(answer))"
   ]
  }
 ],
 "metadata": {
  "language_info": {
   "name": "python"
  },
  "orig_nbformat": 4
 },
 "nbformat": 4,
 "nbformat_minor": 2
}
