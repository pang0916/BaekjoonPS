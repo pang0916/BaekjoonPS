{
 "cells": [
  {
   "attachments": {},
   "cell_type": "markdown",
   "metadata": {},
   "source": [
    "2188 축사배정\n",
    "---\n",
    "플레5, 이중분할"
   ]
  },
  {
   "cell_type": "code",
   "execution_count": null,
   "metadata": {},
   "outputs": [],
   "source": [
    "from sys import stdin\n",
    "input = stdin.readline\n",
    "\n",
    "cowSize, shedSize = map(int, input().split())\n",
    "visited = [0]*(shedSize+1)\n",
    "graph = [0]*(shedSize+1)\n",
    "cow2shed = [[] for _ in range(cowSize+1)]\n",
    "for i in range(cowSize):\n",
    "    x = list(map(int, input().split()))\n",
    "    for j in range(1, x[0]+1):\n",
    "        cow2shed[i+1].append(x[j])\n",
    "\n",
    "def bipart(cowNum):\n",
    "    for x in cow2shed[cowNum]:\n",
    "        if graph[x] == 0:\n",
    "            graph[x] = cowNum\n",
    "            return 1\n",
    "        elif visited[x] == 0:\n",
    "            visited[x] = cowNum\n",
    "            if bipart(graph[x]):\n",
    "                graph[x] = visited[x]\n",
    "                return 1\n",
    "    \n",
    "    return 0\n",
    "\n",
    "result = 0\n",
    "for i in range(1, cowSize+1):\n",
    "    visited = [0]*(shedSize+1)\n",
    "    result += bipart(i)\n",
    "    \n",
    "print(result)"
   ]
  }
 ],
 "metadata": {
  "language_info": {
   "name": "python"
  },
  "orig_nbformat": 4
 },
 "nbformat": 4,
 "nbformat_minor": 2
}
